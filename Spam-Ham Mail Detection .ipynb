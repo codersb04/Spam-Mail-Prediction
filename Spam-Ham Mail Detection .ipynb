{
 "cells": [
  {
   "cell_type": "markdown",
   "id": "2a287afc",
   "metadata": {},
   "source": [
    "## Import Dependencies"
   ]
  },
  {
   "cell_type": "code",
   "execution_count": 1,
   "id": "58104aa3",
   "metadata": {},
   "outputs": [],
   "source": [
    "import numpy as np\n",
    "import pandas as pd\n",
    "from sklearn.model_selection import train_test_split\n",
    "from sklearn.feature_extraction.text import TfidfVectorizer\n",
    "from sklearn.linear_model import LogisticRegression\n",
    "from sklearn.metrics import accuracy_score"
   ]
  },
  {
   "cell_type": "markdown",
   "id": "9175bd8a",
   "metadata": {},
   "source": [
    "## Data Collection and Analysis"
   ]
  },
  {
   "cell_type": "code",
   "execution_count": 75,
   "id": "90f4ddc1",
   "metadata": {},
   "outputs": [],
   "source": [
    "mail_data = pd. read_csv(\"mail_data.csv\")"
   ]
  },
  {
   "cell_type": "code",
   "execution_count": 76,
   "id": "354d7956",
   "metadata": {},
   "outputs": [
    {
     "data": {
      "text/html": [
       "<div>\n",
       "<style scoped>\n",
       "    .dataframe tbody tr th:only-of-type {\n",
       "        vertical-align: middle;\n",
       "    }\n",
       "\n",
       "    .dataframe tbody tr th {\n",
       "        vertical-align: top;\n",
       "    }\n",
       "\n",
       "    .dataframe thead th {\n",
       "        text-align: right;\n",
       "    }\n",
       "</style>\n",
       "<table border=\"1\" class=\"dataframe\">\n",
       "  <thead>\n",
       "    <tr style=\"text-align: right;\">\n",
       "      <th></th>\n",
       "      <th>Category</th>\n",
       "      <th>Message</th>\n",
       "    </tr>\n",
       "  </thead>\n",
       "  <tbody>\n",
       "    <tr>\n",
       "      <th>0</th>\n",
       "      <td>ham</td>\n",
       "      <td>Go until jurong point, crazy.. Available only ...</td>\n",
       "    </tr>\n",
       "    <tr>\n",
       "      <th>1</th>\n",
       "      <td>ham</td>\n",
       "      <td>Ok lar... Joking wif u oni...</td>\n",
       "    </tr>\n",
       "    <tr>\n",
       "      <th>2</th>\n",
       "      <td>spam</td>\n",
       "      <td>Free entry in 2 a wkly comp to win FA Cup fina...</td>\n",
       "    </tr>\n",
       "    <tr>\n",
       "      <th>3</th>\n",
       "      <td>ham</td>\n",
       "      <td>U dun say so early hor... U c already then say...</td>\n",
       "    </tr>\n",
       "    <tr>\n",
       "      <th>4</th>\n",
       "      <td>ham</td>\n",
       "      <td>Nah I don't think he goes to usf, he lives aro...</td>\n",
       "    </tr>\n",
       "  </tbody>\n",
       "</table>\n",
       "</div>"
      ],
      "text/plain": [
       "  Category                                            Message\n",
       "0      ham  Go until jurong point, crazy.. Available only ...\n",
       "1      ham                      Ok lar... Joking wif u oni...\n",
       "2     spam  Free entry in 2 a wkly comp to win FA Cup fina...\n",
       "3      ham  U dun say so early hor... U c already then say...\n",
       "4      ham  Nah I don't think he goes to usf, he lives aro..."
      ]
     },
     "execution_count": 76,
     "metadata": {},
     "output_type": "execute_result"
    }
   ],
   "source": [
    "mail_data.head()"
   ]
  },
  {
   "cell_type": "code",
   "execution_count": 77,
   "id": "a9ac6ab3",
   "metadata": {},
   "outputs": [
    {
     "data": {
      "text/plain": [
       "(5572, 2)"
      ]
     },
     "execution_count": 77,
     "metadata": {},
     "output_type": "execute_result"
    }
   ],
   "source": [
    "mail_data.shape"
   ]
  },
  {
   "cell_type": "code",
   "execution_count": 78,
   "id": "ee644b78",
   "metadata": {},
   "outputs": [
    {
     "data": {
      "text/plain": [
       "Category    0\n",
       "Message     0\n",
       "dtype: int64"
      ]
     },
     "execution_count": 78,
     "metadata": {},
     "output_type": "execute_result"
    }
   ],
   "source": [
    "mail_data.isnull().sum()"
   ]
  },
  {
   "cell_type": "code",
   "execution_count": 79,
   "id": "fe4bf647",
   "metadata": {},
   "outputs": [
    {
     "name": "stdout",
     "output_type": "stream",
     "text": [
      "<class 'pandas.core.frame.DataFrame'>\n",
      "RangeIndex: 5572 entries, 0 to 5571\n",
      "Data columns (total 2 columns):\n",
      " #   Column    Non-Null Count  Dtype \n",
      "---  ------    --------------  ----- \n",
      " 0   Category  5572 non-null   object\n",
      " 1   Message   5572 non-null   object\n",
      "dtypes: object(2)\n",
      "memory usage: 87.2+ KB\n"
     ]
    }
   ],
   "source": [
    "mail_data.info()"
   ]
  },
  {
   "cell_type": "code",
   "execution_count": 80,
   "id": "b91184e3",
   "metadata": {},
   "outputs": [
    {
     "data": {
      "text/plain": [
       "ham     4825\n",
       "spam     747\n",
       "Name: Category, dtype: int64"
      ]
     },
     "execution_count": 80,
     "metadata": {},
     "output_type": "execute_result"
    }
   ],
   "source": [
    "mail_data['Category'].value_counts()"
   ]
  },
  {
   "cell_type": "markdown",
   "id": "d1f3627e",
   "metadata": {},
   "source": [
    "## Data Preprocessing"
   ]
  },
  {
   "cell_type": "markdown",
   "id": "8a516bab",
   "metadata": {},
   "source": [
    "### Label Encoding"
   ]
  },
  {
   "cell_type": "markdown",
   "id": "8e88eee4",
   "metadata": {},
   "source": [
    "Replace categorical column Category with numbers as spam mail with 0 and ham mail with 1"
   ]
  },
  {
   "cell_type": "code",
   "execution_count": 82,
   "id": "b50b36ff",
   "metadata": {},
   "outputs": [],
   "source": [
    "mail_data.replace({'Category':{'spam':0,'ham':1}}, inplace = True)"
   ]
  },
  {
   "cell_type": "code",
   "execution_count": 83,
   "id": "4a2065f4",
   "metadata": {},
   "outputs": [
    {
     "data": {
      "text/html": [
       "<div>\n",
       "<style scoped>\n",
       "    .dataframe tbody tr th:only-of-type {\n",
       "        vertical-align: middle;\n",
       "    }\n",
       "\n",
       "    .dataframe tbody tr th {\n",
       "        vertical-align: top;\n",
       "    }\n",
       "\n",
       "    .dataframe thead th {\n",
       "        text-align: right;\n",
       "    }\n",
       "</style>\n",
       "<table border=\"1\" class=\"dataframe\">\n",
       "  <thead>\n",
       "    <tr style=\"text-align: right;\">\n",
       "      <th></th>\n",
       "      <th>Category</th>\n",
       "      <th>Message</th>\n",
       "    </tr>\n",
       "  </thead>\n",
       "  <tbody>\n",
       "    <tr>\n",
       "      <th>0</th>\n",
       "      <td>1</td>\n",
       "      <td>Go until jurong point, crazy.. Available only ...</td>\n",
       "    </tr>\n",
       "    <tr>\n",
       "      <th>1</th>\n",
       "      <td>1</td>\n",
       "      <td>Ok lar... Joking wif u oni...</td>\n",
       "    </tr>\n",
       "    <tr>\n",
       "      <th>2</th>\n",
       "      <td>0</td>\n",
       "      <td>Free entry in 2 a wkly comp to win FA Cup fina...</td>\n",
       "    </tr>\n",
       "    <tr>\n",
       "      <th>3</th>\n",
       "      <td>1</td>\n",
       "      <td>U dun say so early hor... U c already then say...</td>\n",
       "    </tr>\n",
       "    <tr>\n",
       "      <th>4</th>\n",
       "      <td>1</td>\n",
       "      <td>Nah I don't think he goes to usf, he lives aro...</td>\n",
       "    </tr>\n",
       "    <tr>\n",
       "      <th>...</th>\n",
       "      <td>...</td>\n",
       "      <td>...</td>\n",
       "    </tr>\n",
       "    <tr>\n",
       "      <th>5567</th>\n",
       "      <td>0</td>\n",
       "      <td>This is the 2nd time we have tried 2 contact u...</td>\n",
       "    </tr>\n",
       "    <tr>\n",
       "      <th>5568</th>\n",
       "      <td>1</td>\n",
       "      <td>Will ü b going to esplanade fr home?</td>\n",
       "    </tr>\n",
       "    <tr>\n",
       "      <th>5569</th>\n",
       "      <td>1</td>\n",
       "      <td>Pity, * was in mood for that. So...any other s...</td>\n",
       "    </tr>\n",
       "    <tr>\n",
       "      <th>5570</th>\n",
       "      <td>1</td>\n",
       "      <td>The guy did some bitching but I acted like i'd...</td>\n",
       "    </tr>\n",
       "    <tr>\n",
       "      <th>5571</th>\n",
       "      <td>1</td>\n",
       "      <td>Rofl. Its true to its name</td>\n",
       "    </tr>\n",
       "  </tbody>\n",
       "</table>\n",
       "<p>5572 rows × 2 columns</p>\n",
       "</div>"
      ],
      "text/plain": [
       "      Category                                            Message\n",
       "0            1  Go until jurong point, crazy.. Available only ...\n",
       "1            1                      Ok lar... Joking wif u oni...\n",
       "2            0  Free entry in 2 a wkly comp to win FA Cup fina...\n",
       "3            1  U dun say so early hor... U c already then say...\n",
       "4            1  Nah I don't think he goes to usf, he lives aro...\n",
       "...        ...                                                ...\n",
       "5567         0  This is the 2nd time we have tried 2 contact u...\n",
       "5568         1               Will ü b going to esplanade fr home?\n",
       "5569         1  Pity, * was in mood for that. So...any other s...\n",
       "5570         1  The guy did some bitching but I acted like i'd...\n",
       "5571         1                         Rofl. Its true to its name\n",
       "\n",
       "[5572 rows x 2 columns]"
      ]
     },
     "execution_count": 83,
     "metadata": {},
     "output_type": "execute_result"
    }
   ],
   "source": [
    "mail_data"
   ]
  },
  {
   "cell_type": "markdown",
   "id": "512ee554",
   "metadata": {},
   "source": [
    "### Handling the UnBalanced Data \n",
    "The Above Data is unbalanced as we have 70% data in ham category and just 20% in Spam, This will affect the model Performance. \n",
    "Under Sampling: Build a sample dataset containing similar distribution of Spam and Ham, </br>\n",
    "    Number of Spam = 747\n",
    "\n",
    "Randomly choosing 747 data from 4825 Ham category in order to make the spam and ham dataset equal for further analysis"
   ]
  },
  {
   "cell_type": "code",
   "execution_count": 84,
   "id": "65f5012e",
   "metadata": {},
   "outputs": [],
   "source": [
    "spam = mail_data[mail_data.Category == 0 ]\n",
    "ham = mail_data[mail_data.Category == 1 ]"
   ]
  },
  {
   "cell_type": "code",
   "execution_count": 85,
   "id": "01249c7b",
   "metadata": {},
   "outputs": [
    {
     "name": "stdout",
     "output_type": "stream",
     "text": [
      "(747, 2)\n",
      "(4825, 2)\n"
     ]
    }
   ],
   "source": [
    "print(spam.shape)\n",
    "print(ham.shape)"
   ]
  },
  {
   "cell_type": "code",
   "execution_count": 86,
   "id": "d67ac26f",
   "metadata": {},
   "outputs": [
    {
     "name": "stdout",
     "output_type": "stream",
     "text": [
      "      Category                                            Message\n",
      "0            1  Go until jurong point, crazy.. Available only ...\n",
      "1            1                      Ok lar... Joking wif u oni...\n",
      "3            1  U dun say so early hor... U c already then say...\n",
      "4            1  Nah I don't think he goes to usf, he lives aro...\n",
      "6            1  Even my brother is not like to speak with me. ...\n",
      "...        ...                                                ...\n",
      "5565         1                                       Huh y lei...\n",
      "5568         1               Will ü b going to esplanade fr home?\n",
      "5569         1  Pity, * was in mood for that. So...any other s...\n",
      "5570         1  The guy did some bitching but I acted like i'd...\n",
      "5571         1                         Rofl. Its true to its name\n",
      "\n",
      "[4825 rows x 2 columns]\n",
      "      Category                                            Message\n",
      "2            0  Free entry in 2 a wkly comp to win FA Cup fina...\n",
      "5            0  FreeMsg Hey there darling it's been 3 week's n...\n",
      "8            0  WINNER!! As a valued network customer you have...\n",
      "9            0  Had your mobile 11 months or more? U R entitle...\n",
      "11           0  SIX chances to win CASH! From 100 to 20,000 po...\n",
      "...        ...                                                ...\n",
      "5537         0  Want explicit SEX in 30 secs? Ring 02073162414...\n",
      "5540         0  ASKED 3MOBILE IF 0870 CHATLINES INCLU IN FREE ...\n",
      "5547         0  Had your contract mobile 11 Mnths? Latest Moto...\n",
      "5566         0  REMINDER FROM O2: To get 2.50 pounds free call...\n",
      "5567         0  This is the 2nd time we have tried 2 contact u...\n",
      "\n",
      "[747 rows x 2 columns]\n"
     ]
    }
   ],
   "source": [
    "print(ham)\n",
    "print(spam)"
   ]
  },
  {
   "cell_type": "code",
   "execution_count": 87,
   "id": "a687cf33",
   "metadata": {},
   "outputs": [],
   "source": [
    "# Randomly Choosing 747 rows from ham dataset\n",
    "ham_sample = ham.sample(n=747)"
   ]
  },
  {
   "cell_type": "code",
   "execution_count": 88,
   "id": "9f235eee",
   "metadata": {},
   "outputs": [],
   "source": [
    "# Concatenating the ham_sample and spam data\n",
    "new_mail_data = pd.concat((ham_sample,spam), axis =0)"
   ]
  },
  {
   "cell_type": "code",
   "execution_count": 89,
   "id": "a293a844",
   "metadata": {},
   "outputs": [
    {
     "data": {
      "text/plain": [
       "1    747\n",
       "0    747\n",
       "Name: Category, dtype: int64"
      ]
     },
     "execution_count": 89,
     "metadata": {},
     "output_type": "execute_result"
    }
   ],
   "source": [
    "new_mail_data['Category'].value_counts()"
   ]
  },
  {
   "cell_type": "code",
   "execution_count": 90,
   "id": "11394323",
   "metadata": {},
   "outputs": [
    {
     "data": {
      "text/plain": [
       "(1494, 2)"
      ]
     },
     "execution_count": 90,
     "metadata": {},
     "output_type": "execute_result"
    }
   ],
   "source": [
    "new_mail_data.shape"
   ]
  },
  {
   "cell_type": "markdown",
   "id": "191e0c37",
   "metadata": {},
   "source": [
    "### Separating the target and features"
   ]
  },
  {
   "cell_type": "code",
   "execution_count": 91,
   "id": "1c8371db",
   "metadata": {},
   "outputs": [],
   "source": [
    "X = new_mail_data['Message']\n",
    "Y = new_mail_data['Category']"
   ]
  },
  {
   "cell_type": "code",
   "execution_count": 92,
   "id": "897a9aa9",
   "metadata": {},
   "outputs": [
    {
     "name": "stdout",
     "output_type": "stream",
     "text": [
      "742     Do well :)all will for little time. Thing of g...\n",
      "4933                Match started.india  &lt;#&gt;  for 2\n",
      "1184               Am i that much bad to avoid like this?\n",
      "1192    Come to my home for one last time i wont do an...\n",
      "4239         Lol wtf random. Btw is that your lunch break\n",
      "                              ...                        \n",
      "5537    Want explicit SEX in 30 secs? Ring 02073162414...\n",
      "5540    ASKED 3MOBILE IF 0870 CHATLINES INCLU IN FREE ...\n",
      "5547    Had your contract mobile 11 Mnths? Latest Moto...\n",
      "5566    REMINDER FROM O2: To get 2.50 pounds free call...\n",
      "5567    This is the 2nd time we have tried 2 contact u...\n",
      "Name: Message, Length: 1494, dtype: object\n",
      "742     1\n",
      "4933    1\n",
      "1184    1\n",
      "1192    1\n",
      "4239    1\n",
      "       ..\n",
      "5537    0\n",
      "5540    0\n",
      "5547    0\n",
      "5566    0\n",
      "5567    0\n",
      "Name: Category, Length: 1494, dtype: int64\n"
     ]
    }
   ],
   "source": [
    "print(X)\n",
    "print(Y)"
   ]
  },
  {
   "cell_type": "markdown",
   "id": "fcdb3c9d",
   "metadata": {},
   "source": [
    "## Model Building"
   ]
  },
  {
   "cell_type": "markdown",
   "id": "f0d0e476",
   "metadata": {},
   "source": [
    "### Split the data into training and test set"
   ]
  },
  {
   "cell_type": "code",
   "execution_count": 93,
   "id": "8c4f768e",
   "metadata": {},
   "outputs": [],
   "source": [
    "X_train, X_test, Y_train, Y_test = train_test_split(X, Y, test_size=0.2, random_state=2)"
   ]
  },
  {
   "cell_type": "code",
   "execution_count": 94,
   "id": "3f639b31",
   "metadata": {},
   "outputs": [
    {
     "name": "stdout",
     "output_type": "stream",
     "text": [
      "(1494,) (1195,) (299,)\n"
     ]
    }
   ],
   "source": [
    "print(X.shape, X_train.shape, X_test.shape)"
   ]
  },
  {
   "cell_type": "markdown",
   "id": "2f2cc485",
   "metadata": {},
   "source": [
    "### Feature Extraction"
   ]
  },
  {
   "cell_type": "code",
   "execution_count": 95,
   "id": "790c889f",
   "metadata": {},
   "outputs": [],
   "source": [
    "# Tranform the text data to feature vectors which can be used as input to the Logistic Regression\n",
    "feature_vector = TfidfVectorizer(min_df=1, \n",
    "                                 stop_words='english', \n",
    "                                 lowercase=True)\n",
    "\n",
    "X_train_features = feature_vector.fit_transform(X_train)\n",
    "X_test_features = feature_vector.transform(X_test)\n",
    "\n",
    "# Convert Y_train and Y_test value to integer from string type\n",
    "Y_train = Y_train.astype('int')\n",
    "Y_test = Y_test.astype('int')"
   ]
  },
  {
   "cell_type": "code",
   "execution_count": 96,
   "id": "dc061ca2",
   "metadata": {},
   "outputs": [
    {
     "name": "stdout",
     "output_type": "stream",
     "text": [
      "  (0, 3846)\t0.20946742144859595\n",
      "  (0, 309)\t0.16539436563655968\n",
      "  (0, 1680)\t0.276466089705327\n",
      "  (0, 3427)\t0.26130466724078033\n",
      "  (0, 294)\t0.14806014378319832\n",
      "  (0, 1221)\t0.25054746680923484\n",
      "  (0, 3564)\t0.11841349573880157\n",
      "  (0, 634)\t0.26130466724078033\n",
      "  (0, 3422)\t0.1324987959158566\n",
      "  (0, 3843)\t0.23538604434468813\n",
      "  (0, 2041)\t0.13330297032308397\n",
      "  (0, 3716)\t0.276466089705327\n",
      "  (0, 3758)\t0.26130466724078033\n",
      "  (0, 1711)\t0.20112348855755302\n",
      "  (0, 2653)\t0.16262327078438882\n",
      "  (0, 3293)\t0.25054746680923484\n",
      "  (0, 2666)\t0.4189348428971919\n",
      "  (0, 1896)\t0.276466089705327\n",
      "  (1, 3482)\t0.3436068340658076\n",
      "  (1, 733)\t0.5421974866483221\n",
      "  (1, 2152)\t0.5421974866483221\n",
      "  (1, 3375)\t0.5421974866483221\n",
      "  (2, 3743)\t0.2973536588139147\n",
      "  (2, 976)\t0.2810467603893678\n",
      "  (2, 1320)\t0.21372317786286213\n",
      "  :\t:\n",
      "  (1192, 3714)\t0.3193881414289321\n",
      "  (1193, 3783)\t0.2992599180715869\n",
      "  (1193, 2800)\t0.2992599180715869\n",
      "  (1193, 1071)\t0.2992599180715869\n",
      "  (1193, 892)\t0.2992599180715869\n",
      "  (1193, 772)\t0.28284848023693254\n",
      "  (1193, 3088)\t0.28284848023693254\n",
      "  (1193, 3529)\t0.28284848023693254\n",
      "  (1193, 1289)\t0.22673740366562417\n",
      "  (1193, 2851)\t0.21263948612335343\n",
      "  (1193, 1274)\t0.20813756336914085\n",
      "  (1193, 3432)\t0.21770553767428408\n",
      "  (1193, 3730)\t0.21263948612335343\n",
      "  (1193, 3047)\t0.23411697550893848\n",
      "  (1193, 1389)\t0.1896499993886299\n",
      "  (1193, 3219)\t0.2060614372232843\n",
      "  (1193, 3482)\t0.1896499993886299\n",
      "  (1194, 2705)\t0.4381861916594054\n",
      "  (1194, 163)\t0.4381861916594054\n",
      "  (1194, 1206)\t0.41415602587321404\n",
      "  (1194, 1292)\t0.3371531349031267\n",
      "  (1194, 2070)\t0.26214255526764113\n",
      "  (1194, 3073)\t0.2668863408533977\n",
      "  (1194, 2151)\t0.2839360148117479\n",
      "  (1194, 2088)\t0.3319963463841308\n"
     ]
    }
   ],
   "source": [
    "print(X_train_features)"
   ]
  },
  {
   "cell_type": "markdown",
   "id": "62b1a54d",
   "metadata": {},
   "source": [
    "### Model Training"
   ]
  },
  {
   "cell_type": "markdown",
   "id": "f8096a2b",
   "metadata": {},
   "source": [
    "#### Logistic Regression"
   ]
  },
  {
   "cell_type": "code",
   "execution_count": 97,
   "id": "11f3d37c",
   "metadata": {},
   "outputs": [],
   "source": [
    "model = LogisticRegression()"
   ]
  },
  {
   "cell_type": "code",
   "execution_count": 98,
   "id": "632cc0da",
   "metadata": {},
   "outputs": [
    {
     "data": {
      "text/html": [
       "<style>#sk-container-id-2 {color: black;background-color: white;}#sk-container-id-2 pre{padding: 0;}#sk-container-id-2 div.sk-toggleable {background-color: white;}#sk-container-id-2 label.sk-toggleable__label {cursor: pointer;display: block;width: 100%;margin-bottom: 0;padding: 0.3em;box-sizing: border-box;text-align: center;}#sk-container-id-2 label.sk-toggleable__label-arrow:before {content: \"▸\";float: left;margin-right: 0.25em;color: #696969;}#sk-container-id-2 label.sk-toggleable__label-arrow:hover:before {color: black;}#sk-container-id-2 div.sk-estimator:hover label.sk-toggleable__label-arrow:before {color: black;}#sk-container-id-2 div.sk-toggleable__content {max-height: 0;max-width: 0;overflow: hidden;text-align: left;background-color: #f0f8ff;}#sk-container-id-2 div.sk-toggleable__content pre {margin: 0.2em;color: black;border-radius: 0.25em;background-color: #f0f8ff;}#sk-container-id-2 input.sk-toggleable__control:checked~div.sk-toggleable__content {max-height: 200px;max-width: 100%;overflow: auto;}#sk-container-id-2 input.sk-toggleable__control:checked~label.sk-toggleable__label-arrow:before {content: \"▾\";}#sk-container-id-2 div.sk-estimator input.sk-toggleable__control:checked~label.sk-toggleable__label {background-color: #d4ebff;}#sk-container-id-2 div.sk-label input.sk-toggleable__control:checked~label.sk-toggleable__label {background-color: #d4ebff;}#sk-container-id-2 input.sk-hidden--visually {border: 0;clip: rect(1px 1px 1px 1px);clip: rect(1px, 1px, 1px, 1px);height: 1px;margin: -1px;overflow: hidden;padding: 0;position: absolute;width: 1px;}#sk-container-id-2 div.sk-estimator {font-family: monospace;background-color: #f0f8ff;border: 1px dotted black;border-radius: 0.25em;box-sizing: border-box;margin-bottom: 0.5em;}#sk-container-id-2 div.sk-estimator:hover {background-color: #d4ebff;}#sk-container-id-2 div.sk-parallel-item::after {content: \"\";width: 100%;border-bottom: 1px solid gray;flex-grow: 1;}#sk-container-id-2 div.sk-label:hover label.sk-toggleable__label {background-color: #d4ebff;}#sk-container-id-2 div.sk-serial::before {content: \"\";position: absolute;border-left: 1px solid gray;box-sizing: border-box;top: 0;bottom: 0;left: 50%;z-index: 0;}#sk-container-id-2 div.sk-serial {display: flex;flex-direction: column;align-items: center;background-color: white;padding-right: 0.2em;padding-left: 0.2em;position: relative;}#sk-container-id-2 div.sk-item {position: relative;z-index: 1;}#sk-container-id-2 div.sk-parallel {display: flex;align-items: stretch;justify-content: center;background-color: white;position: relative;}#sk-container-id-2 div.sk-item::before, #sk-container-id-2 div.sk-parallel-item::before {content: \"\";position: absolute;border-left: 1px solid gray;box-sizing: border-box;top: 0;bottom: 0;left: 50%;z-index: -1;}#sk-container-id-2 div.sk-parallel-item {display: flex;flex-direction: column;z-index: 1;position: relative;background-color: white;}#sk-container-id-2 div.sk-parallel-item:first-child::after {align-self: flex-end;width: 50%;}#sk-container-id-2 div.sk-parallel-item:last-child::after {align-self: flex-start;width: 50%;}#sk-container-id-2 div.sk-parallel-item:only-child::after {width: 0;}#sk-container-id-2 div.sk-dashed-wrapped {border: 1px dashed gray;margin: 0 0.4em 0.5em 0.4em;box-sizing: border-box;padding-bottom: 0.4em;background-color: white;}#sk-container-id-2 div.sk-label label {font-family: monospace;font-weight: bold;display: inline-block;line-height: 1.2em;}#sk-container-id-2 div.sk-label-container {text-align: center;}#sk-container-id-2 div.sk-container {/* jupyter's `normalize.less` sets `[hidden] { display: none; }` but bootstrap.min.css set `[hidden] { display: none !important; }` so we also need the `!important` here to be able to override the default hidden behavior on the sphinx rendered scikit-learn.org. See: https://github.com/scikit-learn/scikit-learn/issues/21755 */display: inline-block !important;position: relative;}#sk-container-id-2 div.sk-text-repr-fallback {display: none;}</style><div id=\"sk-container-id-2\" class=\"sk-top-container\"><div class=\"sk-text-repr-fallback\"><pre>LogisticRegression()</pre><b>In a Jupyter environment, please rerun this cell to show the HTML representation or trust the notebook. <br />On GitHub, the HTML representation is unable to render, please try loading this page with nbviewer.org.</b></div><div class=\"sk-container\" hidden><div class=\"sk-item\"><div class=\"sk-estimator sk-toggleable\"><input class=\"sk-toggleable__control sk-hidden--visually\" id=\"sk-estimator-id-2\" type=\"checkbox\" checked><label for=\"sk-estimator-id-2\" class=\"sk-toggleable__label sk-toggleable__label-arrow\">LogisticRegression</label><div class=\"sk-toggleable__content\"><pre>LogisticRegression()</pre></div></div></div></div></div>"
      ],
      "text/plain": [
       "LogisticRegression()"
      ]
     },
     "execution_count": 98,
     "metadata": {},
     "output_type": "execute_result"
    }
   ],
   "source": [
    "# Training the logistic Regression Model with the training data\n",
    "model.fit(X_train_features, Y_train)"
   ]
  },
  {
   "cell_type": "markdown",
   "id": "c05c435e",
   "metadata": {},
   "source": [
    "### Model Evaluation"
   ]
  },
  {
   "cell_type": "code",
   "execution_count": 99,
   "id": "0265131f",
   "metadata": {},
   "outputs": [
    {
     "name": "stdout",
     "output_type": "stream",
     "text": [
      "Accuarcy Score of Trained Data:  0.9841004184100418\n"
     ]
    }
   ],
   "source": [
    "# EValuating the trained data\n",
    "trained_predict = model.predict(X_train_features)\n",
    "trained_accuracy = accuracy_score(Y_train, trained_predict)\n",
    "print(\"Accuarcy Score of Trained Data: \", trained_accuracy)"
   ]
  },
  {
   "cell_type": "code",
   "execution_count": 100,
   "id": "11cc3c6c",
   "metadata": {},
   "outputs": [
    {
     "name": "stdout",
     "output_type": "stream",
     "text": [
      "Accuarcy Score of Test Data:  0.9565217391304348\n"
     ]
    }
   ],
   "source": [
    "# EValuating the test data\n",
    "test_predict = model.predict(X_test_features)\n",
    "test_accuracy = accuracy_score(Y_test, test_predict)\n",
    "print(\"Accuarcy Score of Test Data: \", test_accuracy)"
   ]
  },
  {
   "cell_type": "markdown",
   "id": "2c5a30a0",
   "metadata": {},
   "source": [
    "## Build a predictive System"
   ]
  },
  {
   "cell_type": "code",
   "execution_count": 101,
   "id": "7f7c1f06",
   "metadata": {},
   "outputs": [
    {
     "name": "stdout",
     "output_type": "stream",
     "text": [
      "[0]\n",
      "Spam Mail\n"
     ]
    }
   ],
   "source": [
    "#input_mail = [\"As per your request 'Melle Melle (Oru Minnaminunginte Nurungu Vettam)' has been set as your callertune for all Callers. Press *9 to copy your friends Callertune\"]\n",
    "input_mail = [\"FreeMsg Hey there darling it's been 3 week's now and no word back! I'd like some fun you up for it still? Tb ok! XxX std chgs to send, £1.50 to rcv\"]\n",
    "\n",
    "# Transform text to feature vectors\n",
    "input_feature = feature_vector.transform(input_mail)\n",
    "\n",
    "# evaluation\n",
    "prediction = model.predict(input_feature)\n",
    "\n",
    "print(prediction)\n",
    "if prediction[0] == 0:\n",
    "    print(\"Spam Mail\")\n",
    "else:\n",
    "    print(\"Not a Spam mail\")"
   ]
  }
 ],
 "metadata": {
  "kernelspec": {
   "display_name": "Python 3 (ipykernel)",
   "language": "python",
   "name": "python3"
  },
  "language_info": {
   "codemirror_mode": {
    "name": "ipython",
    "version": 3
   },
   "file_extension": ".py",
   "mimetype": "text/x-python",
   "name": "python",
   "nbconvert_exporter": "python",
   "pygments_lexer": "ipython3",
   "version": "3.10.9"
  }
 },
 "nbformat": 4,
 "nbformat_minor": 5
}
